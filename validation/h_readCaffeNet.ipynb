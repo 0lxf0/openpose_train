{
 "cells": [
  {
   "cell_type": "code",
   "execution_count": 3,
   "metadata": {
    "collapsed": false,
    "deletable": true,
    "editable": true
   },
   "outputs": [],
   "source": [
    "%matplotlib inline\n",
    "import os\n",
    "import sys\n",
    "import matplotlib.pyplot as plt\n",
    "import numpy as np\n",
    "\n",
    "sCaffeFolder =  '/home/gines/devel/openpose_caffe_train/'\n",
    "# sBasePath = '/media/posefs3b/Users/gines/openpose_train/training_results/1_19Binary/pose/body_19/'\n",
    "# sBasePath = '/media/posefs3b/Users/gines/openpose_train/training_results/1_19Binary2/pose/body_19/'\n",
    "# sBasePath = '/media/posefs3b/Users/gines/openpose_train/training_results/2_19bOcclusion/pose/body_19b/'\n",
    "sBasePath = '/media/posefs3b/Users/gines/openpose_train/training_results/2_19MoreScale2/pose/body_19/'\n",
    "sFirstBinaryLayer = 'Mconv4_stage1_L2'\n",
    "\n",
    "sProtoTxt =  sBasePath + 'pose_deploy.prototxt'\n",
    "# sCaffemodelPath =  sBasePath + 'pose_iter_202000.caffemodel'\n",
    "# sCaffemodelPath =  sBasePath + 'pose_iter_12000.caffemodel'\n",
    "# sCaffemodelPath =  sBasePath + 'pose_iter_336000.caffemodel'\n",
    "sCaffemodelPath =  sBasePath + 'pose_iter_776000.caffemodel'\n",
    "\n",
    "# Caffe includes\n",
    "sys.path.insert(0, os.path.join(sCaffeFolder, 'python'))\n",
    "import caffe\n",
    "from caffe import layers as L  # pseudo module using __getattr__ magic to generate protobuf messages\n",
    "from caffe import params as P  # pseudo module using __getattr__ magic to generate protobuf messages\n",
    "\n",
    "def net_to_py_readable(protoTxtPath, caffemodelPath):\n",
    "    net = caffe.Net(protoTxtPath, caffemodelPath, caffe.TEST) # read the net + weights\n",
    "    pynet_ = []\n",
    "    for li in xrange(len(net.layers)):  # for each layer in the net\n",
    "        layer = {}  # store layer's information\n",
    "        layer['name'] = net._layer_names[li]\n",
    "        # for each input to the layer (aka \"bottom\") store its name and shape\n",
    "        layer['bottoms'] = [(net._blob_names[bi], net.blobs[net._blob_names[bi]].data.shape) \n",
    "                                                 for bi in list(net._bottom_ids(li))] \n",
    "        # for each output of the layer (aka \"top\") store its name and shape\n",
    "        layer['tops'] = [(net._blob_names[bi], net.blobs[net._blob_names[bi]].data.shape) \n",
    "                                            for bi in list(net._top_ids(li))]\n",
    "        layer['type'] = net.layers[li].type  # type of the layer\n",
    "        # the internal parameters of the layer. not all layers has weights.\n",
    "        layer['weights'] = [net.layers[li].blobs[bi].data[...] \n",
    "                                                for bi in xrange(len(net.layers[li].blobs))]\n",
    "        pynet_.append(layer)\n",
    "    return pynet_\n",
    "\n",
    "sNetParameters = net_to_py_readable(sProtoTxt, sCaffemodelPath)"
   ]
  },
  {
   "cell_type": "code",
   "execution_count": 2,
   "metadata": {
    "collapsed": false,
    "deletable": true,
    "editable": true
   },
   "outputs": [],
   "source": [
    "startRecording = False\n",
    "for netParameter in sNetParameters:\n",
    "    if netParameter['name'] == sFirstBinaryLayer:\n",
    "        startRecording = True\n",
    "    if netParameter['type'] == 'Convolution' and startRecording:\n",
    "        # weights = netParameter['weights'][0]\n",
    "        # bias = netParameter['weights'][1]\n",
    "        weightsArray = np.asarray(netParameter['weights'][0], dtype=np.float32)\n",
    "        if weightsArray.shape[2] > 1 and weightsArray.shape[3] > 1:\n",
    "            weightsArray = weightsArray.reshape(np.prod(weightsArray.shape), 1).copy()\n",
    "            plt.hist(weightsArray, normed=True, bins=100)\n",
    "            plt.ylabel('Probability');\n",
    "            plt.xlabel('Weight value');\n",
    "#             plt.ylim(0, ymax)\n",
    "            plt.xlim(-0.15, 0.15)\n"
   ]
  },
  {
   "cell_type": "code",
   "execution_count": 8,
   "metadata": {
    "collapsed": false,
    "deletable": true,
    "editable": true
   },
   "outputs": [
    {
     "data": {
      "image/png": "[encoded data removed]",
      "text/plain": [
       "<matplotlib.figure.Figure at 0x7f5035dd0290>"
      ]
     },
     "metadata": {},
     "output_type": "display_data"
    }
   ],
   "source": [
    "startRecording = False\n",
    "for netParameter in sNetParameters:\n",
    "    if netParameter['name'] == 'conv4_3_CPM':\n",
    "        # weights = netParameter['weights'][0]\n",
    "        # bias = netParameter['weights'][1]\n",
    "        weightsArray = np.asarray(netParameter['weights'][0], dtype=np.float32)\n",
    "        if weightsArray.shape[2] > 1 and weightsArray.shape[3] > 1:\n",
    "            weightsArray = weightsArray.reshape(np.prod(weightsArray.shape), 1).copy()\n",
    "            plt.hist(weightsArray, normed=True, bins=101)\n",
    "            plt.ylabel('Probability');\n",
    "            plt.xlabel('Weight value');\n",
    "#             plt.ylim(0, ymax)\n",
    "            plt.xlim(-0.15, 0.15)\n"
   ]
  }
 ],
 "metadata": {
  "kernelspec": {
   "display_name": "Python 2",
   "language": "python",
   "name": "python2"
  },
  "language_info": {
   "codemirror_mode": {
    "name": "ipython",
    "version": 2
   },
   "file_extension": ".py",
   "mimetype": "text/x-python",
   "name": "python",
   "nbconvert_exporter": "python",
   "pygments_lexer": "ipython2",
   "version": "2.7.12"
  }
 },
 "nbformat": 4,
 "nbformat_minor": 2
}
